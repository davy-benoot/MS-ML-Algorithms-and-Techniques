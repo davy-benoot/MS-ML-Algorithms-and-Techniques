{
 "cells": [
  {
   "cell_type": "code",
   "execution_count": 1,
   "id": "55b9624e",
   "metadata": {},
   "outputs": [
    {
     "name": "stderr",
     "output_type": "stream",
     "text": [
      "2025-07-28 10:10:59.368825: I tensorflow/core/util/port.cc:153] oneDNN custom operations are on. You may see slightly different numerical results due to floating-point round-off errors from different computation orders. To turn them off, set the environment variable `TF_ENABLE_ONEDNN_OPTS=0`.\n",
      "2025-07-28 10:10:59.378996: E external/local_xla/xla/stream_executor/cuda/cuda_fft.cc:467] Unable to register cuFFT factory: Attempting to register factory for plugin cuFFT when one has already been registered\n",
      "WARNING: All log messages before absl::InitializeLog() is called are written to STDERR\n",
      "E0000 00:00:1753690259.390935 1030499 cuda_dnn.cc:8579] Unable to register cuDNN factory: Attempting to register factory for plugin cuDNN when one has already been registered\n",
      "E0000 00:00:1753690259.394400 1030499 cuda_blas.cc:1407] Unable to register cuBLAS factory: Attempting to register factory for plugin cuBLAS when one has already been registered\n",
      "W0000 00:00:1753690259.403327 1030499 computation_placer.cc:177] computation placer already registered. Please check linkage and avoid linking the same target more than once.\n",
      "W0000 00:00:1753690259.403342 1030499 computation_placer.cc:177] computation placer already registered. Please check linkage and avoid linking the same target more than once.\n",
      "W0000 00:00:1753690259.403344 1030499 computation_placer.cc:177] computation placer already registered. Please check linkage and avoid linking the same target more than once.\n",
      "W0000 00:00:1753690259.403345 1030499 computation_placer.cc:177] computation placer already registered. Please check linkage and avoid linking the same target more than once.\n",
      "2025-07-28 10:10:59.406866: I tensorflow/core/platform/cpu_feature_guard.cc:210] This TensorFlow binary is optimized to use available CPU instructions in performance-critical operations.\n",
      "To enable the following instructions: AVX2 AVX_VNNI FMA, in other operations, rebuild TensorFlow with the appropriate compiler flags.\n"
     ]
    }
   ],
   "source": [
    "import tensorflow as tf\n",
    "from tensorflow.keras import layers, models\n",
    "\n",
    "# Define the generator model\n",
    "def build_generator():\n",
    "    model = models.Sequential([\n",
    "        layers.Dense(128, activation='relu', input_shape=(100,)),\n",
    "        layers.Dense(784, activation='sigmoid')  # Output: 28x28 flattened image\n",
    "    ])\n",
    "    return model\n",
    "\n",
    "# Define the discriminator model\n",
    "def build_discriminator():\n",
    "    model = models.Sequential([\n",
    "        layers.Dense(128, activation='relu', input_shape=(784,)),  # Input: Flattened 28x28 image\n",
    "        layers.Dense(1, activation='sigmoid')  # Output: Probability (real or fake)\n",
    "    ])\n",
    "    return model"
   ]
  },
  {
   "cell_type": "code",
   "execution_count": 2,
   "id": "d867358c",
   "metadata": {},
   "outputs": [
    {
     "name": "stdout",
     "output_type": "stream",
     "text": [
      "Downloading data from https://storage.googleapis.com/tensorflow/tf-keras-datasets/mnist.npz\n",
      "\u001b[1m11490434/11490434\u001b[0m \u001b[32m━━━━━━━━━━━━━━━━━━━━\u001b[0m\u001b[37m\u001b[0m \u001b[1m3s\u001b[0m 0us/step\n",
      "X_train shape: (60000, 784)\n"
     ]
    },
    {
     "name": "stderr",
     "output_type": "stream",
     "text": [
      "/home/davy/Documents/venv/lib/python3.12/site-packages/keras/src/layers/core/dense.py:93: UserWarning: Do not pass an `input_shape`/`input_dim` argument to a layer. When using Sequential models, prefer using an `Input(shape)` object as the first layer in the model instead.\n",
      "  super().__init__(activity_regularizer=activity_regularizer, **kwargs)\n",
      "I0000 00:00:1753690306.940916 1030499 gpu_device.cc:2019] Created device /job:localhost/replica:0/task:0/device:GPU:0 with 106 MB memory:  -> device: 0, name: NVIDIA GeForce RTX 4060 Laptop GPU, pci bus id: 0000:01:00.0, compute capability: 8.9\n",
      "I0000 00:00:1753690306.954392 1030499 cuda_executor.cc:479] failed to allocate 106.88MiB (112066560 bytes) from device: RESOURCE_EXHAUSTED: : CUDA_ERROR_OUT_OF_MEMORY: out of memory\n",
      "WARNING: All log messages before absl::InitializeLog() is called are written to STDERR\n",
      "I0000 00:00:1753690307.556255 1030927 service.cc:152] XLA service 0x7bde0c004d10 initialized for platform CUDA (this does not guarantee that XLA will be used). Devices:\n",
      "I0000 00:00:1753690307.556273 1030927 service.cc:160]   StreamExecutor device (0): NVIDIA GeForce RTX 4060 Laptop GPU, Compute Capability 8.9\n",
      "2025-07-28 10:11:47.560419: I tensorflow/compiler/mlir/tensorflow/utils/dump_mlir_util.cc:269] disabling MLIR crash reproducer, set env var `MLIR_CRASH_REPRODUCER_DIRECTORY` to enable.\n",
      "I0000 00:00:1753690307.573699 1030927 cuda_dnn.cc:529] Loaded cuDNN version 90300\n",
      "E0000 00:00:1753690308.257136 1030927 cuda_blas.cc:193] failed to create cublas handle: the resource allocation failed\n",
      "E0000 00:00:1753690308.257168 1030927 cuda_blas.cc:196] Failure to initialize cublas may be due to OOM (cublas needs some free memory when you initialize it, and your deep-learning framework may have preallocated more than its fair share), or may be because this binary was not built with support for the GPU in your machine.\n",
      "2025-07-28 10:11:48.259681: W tensorflow/core/framework/op_kernel.cc:1857] OP_REQUIRES failed at xla_ops.cc:591 : INTERNAL: Failed to initialize BLAS support\n",
      "2025-07-28 10:11:48.259704: I tensorflow/core/framework/local_rendezvous.cc:407] Local rendezvous is aborting with status: INTERNAL: Failed to initialize BLAS support\n",
      "\t [[{{node StatefulPartitionedCall}}]]\n"
     ]
    },
    {
     "ename": "InternalError",
     "evalue": "Graph execution error:\n\nDetected at node StatefulPartitionedCall defined at (most recent call last):\n  File \"<frozen runpy>\", line 198, in _run_module_as_main\n\n  File \"<frozen runpy>\", line 88, in _run_code\n\n  File \"/home/davy/Documents/venv/lib/python3.12/site-packages/ipykernel_launcher.py\", line 18, in <module>\n\n  File \"/home/davy/Documents/venv/lib/python3.12/site-packages/traitlets/config/application.py\", line 1075, in launch_instance\n\n  File \"/home/davy/Documents/venv/lib/python3.12/site-packages/ipykernel/kernelapp.py\", line 739, in start\n\n  File \"/home/davy/Documents/venv/lib/python3.12/site-packages/tornado/platform/asyncio.py\", line 211, in start\n\n  File \"/usr/lib/python3.12/asyncio/base_events.py\", line 641, in run_forever\n\n  File \"/usr/lib/python3.12/asyncio/base_events.py\", line 1987, in _run_once\n\n  File \"/usr/lib/python3.12/asyncio/events.py\", line 88, in _run\n\n  File \"/home/davy/Documents/venv/lib/python3.12/site-packages/ipykernel/kernelbase.py\", line 545, in dispatch_queue\n\n  File \"/home/davy/Documents/venv/lib/python3.12/site-packages/ipykernel/kernelbase.py\", line 534, in process_one\n\n  File \"/home/davy/Documents/venv/lib/python3.12/site-packages/ipykernel/kernelbase.py\", line 437, in dispatch_shell\n\n  File \"/home/davy/Documents/venv/lib/python3.12/site-packages/ipykernel/ipkernel.py\", line 362, in execute_request\n\n  File \"/home/davy/Documents/venv/lib/python3.12/site-packages/ipykernel/kernelbase.py\", line 778, in execute_request\n\n  File \"/home/davy/Documents/venv/lib/python3.12/site-packages/ipykernel/ipkernel.py\", line 449, in do_execute\n\n  File \"/home/davy/Documents/venv/lib/python3.12/site-packages/ipykernel/zmqshell.py\", line 549, in run_cell\n\n  File \"/home/davy/Documents/venv/lib/python3.12/site-packages/IPython/core/interactiveshell.py\", line 3116, in run_cell\n\n  File \"/home/davy/Documents/venv/lib/python3.12/site-packages/IPython/core/interactiveshell.py\", line 3171, in _run_cell\n\n  File \"/home/davy/Documents/venv/lib/python3.12/site-packages/IPython/core/async_helpers.py\", line 128, in _pseudo_sync_runner\n\n  File \"/home/davy/Documents/venv/lib/python3.12/site-packages/IPython/core/interactiveshell.py\", line 3394, in run_cell_async\n\n  File \"/home/davy/Documents/venv/lib/python3.12/site-packages/IPython/core/interactiveshell.py\", line 3639, in run_ast_nodes\n\n  File \"/home/davy/Documents/venv/lib/python3.12/site-packages/IPython/core/interactiveshell.py\", line 3699, in run_code\n\n  File \"/tmp/ipykernel_1030499/2791853479.py\", line 40, in <module>\n\n  File \"/home/davy/Documents/venv/lib/python3.12/site-packages/keras/src/utils/traceback_utils.py\", line 117, in error_handler\n\n  File \"/home/davy/Documents/venv/lib/python3.12/site-packages/keras/src/backend/tensorflow/trainer.py\", line 566, in predict\n\n  File \"/home/davy/Documents/venv/lib/python3.12/site-packages/keras/src/backend/tensorflow/trainer.py\", line 260, in one_step_on_data_distributed\n\nFailed to initialize BLAS support\n\t [[{{node StatefulPartitionedCall}}]] [Op:__inference_one_step_on_data_distributed_204]",
     "output_type": "error",
     "traceback": [
      "\u001b[31m---------------------------------------------------------------------------\u001b[39m",
      "\u001b[31mInternalError\u001b[39m                             Traceback (most recent call last)",
      "\u001b[36mCell\u001b[39m\u001b[36m \u001b[39m\u001b[32mIn[2]\u001b[39m\u001b[32m, line 40\u001b[39m\n\u001b[32m     38\u001b[39m \u001b[38;5;66;03m# Train discriminator with fake images\u001b[39;00m\n\u001b[32m     39\u001b[39m noise = np.random.normal(\u001b[32m0\u001b[39m, \u001b[32m1\u001b[39m, (half_batch, \u001b[32m100\u001b[39m))  \u001b[38;5;66;03m# Random noise input\u001b[39;00m\n\u001b[32m---> \u001b[39m\u001b[32m40\u001b[39m fake_imgs = \u001b[43mgenerator\u001b[49m\u001b[43m.\u001b[49m\u001b[43mpredict\u001b[49m\u001b[43m(\u001b[49m\u001b[43mnoise\u001b[49m\u001b[43m)\u001b[49m  \u001b[38;5;66;03m# Fake images generated by the generator\u001b[39;00m\n\u001b[32m     41\u001b[39m fake_labels = np.zeros((half_batch, \u001b[32m1\u001b[39m))  \u001b[38;5;66;03m# Fake labels (0s)\u001b[39;00m\n\u001b[32m     43\u001b[39m \u001b[38;5;66;03m# Train the discriminator on real and fake images\u001b[39;00m\n",
      "\u001b[36mFile \u001b[39m\u001b[32m~/Documents/venv/lib/python3.12/site-packages/keras/src/utils/traceback_utils.py:122\u001b[39m, in \u001b[36mfilter_traceback.<locals>.error_handler\u001b[39m\u001b[34m(*args, **kwargs)\u001b[39m\n\u001b[32m    119\u001b[39m     filtered_tb = _process_traceback_frames(e.__traceback__)\n\u001b[32m    120\u001b[39m     \u001b[38;5;66;03m# To get the full stack trace, call:\u001b[39;00m\n\u001b[32m    121\u001b[39m     \u001b[38;5;66;03m# `keras.config.disable_traceback_filtering()`\u001b[39;00m\n\u001b[32m--> \u001b[39m\u001b[32m122\u001b[39m     \u001b[38;5;28;01mraise\u001b[39;00m e.with_traceback(filtered_tb) \u001b[38;5;28;01mfrom\u001b[39;00m\u001b[38;5;250m \u001b[39m\u001b[38;5;28;01mNone\u001b[39;00m\n\u001b[32m    123\u001b[39m \u001b[38;5;28;01mfinally\u001b[39;00m:\n\u001b[32m    124\u001b[39m     \u001b[38;5;28;01mdel\u001b[39;00m filtered_tb\n",
      "\u001b[36mFile \u001b[39m\u001b[32m~/Documents/venv/lib/python3.12/site-packages/tensorflow/python/eager/execute.py:53\u001b[39m, in \u001b[36mquick_execute\u001b[39m\u001b[34m(op_name, num_outputs, inputs, attrs, ctx, name)\u001b[39m\n\u001b[32m     51\u001b[39m \u001b[38;5;28;01mtry\u001b[39;00m:\n\u001b[32m     52\u001b[39m   ctx.ensure_initialized()\n\u001b[32m---> \u001b[39m\u001b[32m53\u001b[39m   tensors = pywrap_tfe.TFE_Py_Execute(ctx._handle, device_name, op_name,\n\u001b[32m     54\u001b[39m                                       inputs, attrs, num_outputs)\n\u001b[32m     55\u001b[39m \u001b[38;5;28;01mexcept\u001b[39;00m core._NotOkStatusException \u001b[38;5;28;01mas\u001b[39;00m e:\n\u001b[32m     56\u001b[39m   \u001b[38;5;28;01mif\u001b[39;00m name \u001b[38;5;129;01mis\u001b[39;00m \u001b[38;5;129;01mnot\u001b[39;00m \u001b[38;5;28;01mNone\u001b[39;00m:\n",
      "\u001b[31mInternalError\u001b[39m: Graph execution error:\n\nDetected at node StatefulPartitionedCall defined at (most recent call last):\n  File \"<frozen runpy>\", line 198, in _run_module_as_main\n\n  File \"<frozen runpy>\", line 88, in _run_code\n\n  File \"/home/davy/Documents/venv/lib/python3.12/site-packages/ipykernel_launcher.py\", line 18, in <module>\n\n  File \"/home/davy/Documents/venv/lib/python3.12/site-packages/traitlets/config/application.py\", line 1075, in launch_instance\n\n  File \"/home/davy/Documents/venv/lib/python3.12/site-packages/ipykernel/kernelapp.py\", line 739, in start\n\n  File \"/home/davy/Documents/venv/lib/python3.12/site-packages/tornado/platform/asyncio.py\", line 211, in start\n\n  File \"/usr/lib/python3.12/asyncio/base_events.py\", line 641, in run_forever\n\n  File \"/usr/lib/python3.12/asyncio/base_events.py\", line 1987, in _run_once\n\n  File \"/usr/lib/python3.12/asyncio/events.py\", line 88, in _run\n\n  File \"/home/davy/Documents/venv/lib/python3.12/site-packages/ipykernel/kernelbase.py\", line 545, in dispatch_queue\n\n  File \"/home/davy/Documents/venv/lib/python3.12/site-packages/ipykernel/kernelbase.py\", line 534, in process_one\n\n  File \"/home/davy/Documents/venv/lib/python3.12/site-packages/ipykernel/kernelbase.py\", line 437, in dispatch_shell\n\n  File \"/home/davy/Documents/venv/lib/python3.12/site-packages/ipykernel/ipkernel.py\", line 362, in execute_request\n\n  File \"/home/davy/Documents/venv/lib/python3.12/site-packages/ipykernel/kernelbase.py\", line 778, in execute_request\n\n  File \"/home/davy/Documents/venv/lib/python3.12/site-packages/ipykernel/ipkernel.py\", line 449, in do_execute\n\n  File \"/home/davy/Documents/venv/lib/python3.12/site-packages/ipykernel/zmqshell.py\", line 549, in run_cell\n\n  File \"/home/davy/Documents/venv/lib/python3.12/site-packages/IPython/core/interactiveshell.py\", line 3116, in run_cell\n\n  File \"/home/davy/Documents/venv/lib/python3.12/site-packages/IPython/core/interactiveshell.py\", line 3171, in _run_cell\n\n  File \"/home/davy/Documents/venv/lib/python3.12/site-packages/IPython/core/async_helpers.py\", line 128, in _pseudo_sync_runner\n\n  File \"/home/davy/Documents/venv/lib/python3.12/site-packages/IPython/core/interactiveshell.py\", line 3394, in run_cell_async\n\n  File \"/home/davy/Documents/venv/lib/python3.12/site-packages/IPython/core/interactiveshell.py\", line 3639, in run_ast_nodes\n\n  File \"/home/davy/Documents/venv/lib/python3.12/site-packages/IPython/core/interactiveshell.py\", line 3699, in run_code\n\n  File \"/tmp/ipykernel_1030499/2791853479.py\", line 40, in <module>\n\n  File \"/home/davy/Documents/venv/lib/python3.12/site-packages/keras/src/utils/traceback_utils.py\", line 117, in error_handler\n\n  File \"/home/davy/Documents/venv/lib/python3.12/site-packages/keras/src/backend/tensorflow/trainer.py\", line 566, in predict\n\n  File \"/home/davy/Documents/venv/lib/python3.12/site-packages/keras/src/backend/tensorflow/trainer.py\", line 260, in one_step_on_data_distributed\n\nFailed to initialize BLAS support\n\t [[{{node StatefulPartitionedCall}}]] [Op:__inference_one_step_on_data_distributed_204]"
     ]
    }
   ],
   "source": [
    "import numpy as np\n",
    "from tensorflow.keras.datasets import mnist\n",
    "\n",
    "# Load and preprocess dataset (MNIST for example)\n",
    "(X_train, _), (_, _) = mnist.load_data()\n",
    "\n",
    "# Normalize images to [-1, 1] and flatten to (784,) for the discriminator input\n",
    "X_train = (X_train.astype(np.float32) - 127.5) / 127.5  # Normalize to range [-1, 1]\n",
    "X_train = X_train.reshape(-1, 784)  # Flatten 28x28 images to vectors of size 784\n",
    "\n",
    "# Check the shape of the dataset\n",
    "print(f\"X_train shape: {X_train.shape}\")  # Should print: (60000, 784)\n",
    "\n",
    "# Build the models\n",
    "generator = build_generator()\n",
    "discriminator = build_discriminator()\n",
    "\n",
    "# Compile the discriminator\n",
    "discriminator.compile(optimizer='adam', loss='binary_crossentropy', metrics=['accuracy'])\n",
    "\n",
    "# Create GAN model: stack generator and discriminator\n",
    "gan = models.Sequential([generator, discriminator])\n",
    "discriminator.trainable = False  # Freeze the discriminator when training the GAN\n",
    "\n",
    "gan.compile(optimizer='adam', loss='binary_crossentropy')\n",
    "\n",
    "# Training loop\n",
    "epochs = 1000\n",
    "batch_size = 32\n",
    "half_batch = batch_size // 2\n",
    "\n",
    "for epoch in range(epochs):\n",
    "    # Train discriminator with real images\n",
    "    idx = np.random.randint(0, X_train.shape[0], half_batch)  # Random real images\n",
    "    real_imgs = X_train[idx]\n",
    "    real_labels = np.ones((half_batch, 1))  # Real labels (1s)\n",
    "\n",
    "    # Train discriminator with fake images\n",
    "    noise = np.random.normal(0, 1, (half_batch, 100))  # Random noise input\n",
    "    fake_imgs = generator.predict(noise)  # Fake images generated by the generator\n",
    "    fake_labels = np.zeros((half_batch, 1))  # Fake labels (0s)\n",
    "\n",
    "    # Train the discriminator on real and fake images\n",
    "    d_loss_real = discriminator.train_on_batch(real_imgs, real_labels)\n",
    "    d_loss_fake = discriminator.train_on_batch(fake_imgs, fake_labels)\n",
    "\n",
    "    # Train the generator (the generator wants to fool the discriminator)\n",
    "    noise = np.random.normal(0, 1, (batch_size, 100))  # Generate new noise\n",
    "    gan_labels = np.ones((batch_size, 1))  # We want the generator to produce \"real\" images\n",
    "    g_loss = gan.train_on_batch(noise, gan_labels)\n",
    "\n",
    "    # Log progress every 100 epochs\n",
    "    if epoch % 100 == 0:\n",
    "        print(f\"Epoch {epoch}, Discriminator Loss: {d_loss_real[0]}, Generator Loss: {g_loss}\")"
   ]
  },
  {
   "cell_type": "code",
   "execution_count": 3,
   "id": "4ef1e416",
   "metadata": {},
   "outputs": [],
   "source": [
    "# Define the encoder\n",
    "def build_encoder():\n",
    "    input_img = layers.Input(shape=(784,))\n",
    "    encoded = layers.Dense(128, activation='relu')(input_img)\n",
    "    encoded = layers.Dense(64, activation='relu')(encoded)\n",
    "    return models.Model(input_img, encoded)\n",
    "\n",
    "# Define the decoder\n",
    "def build_decoder():\n",
    "    encoded_input = layers.Input(shape=(64,))\n",
    "    decoded = layers.Dense(128, activation='relu')(encoded_input)\n",
    "    decoded = layers.Dense(784, activation='sigmoid')(decoded)\n",
    "    return models.Model(encoded_input, decoded)\n",
    "\n",
    "# Build the full autoencoder\n",
    "encoder = build_encoder()\n",
    "decoder = build_decoder()\n",
    "\n",
    "input_img = layers.Input(shape=(784,))\n",
    "encoded_img = encoder(input_img)\n",
    "decoded_img = decoder(encoded_img)\n",
    "\n",
    "autoencoder = models.Model(input_img, decoded_img)"
   ]
  },
  {
   "cell_type": "code",
   "execution_count": 4,
   "id": "689c9f01",
   "metadata": {},
   "outputs": [
    {
     "ename": "NameError",
     "evalue": "name 'X_test' is not defined",
     "output_type": "error",
     "traceback": [
      "\u001b[31m---------------------------------------------------------------------------\u001b[39m",
      "\u001b[31mNameError\u001b[39m                                 Traceback (most recent call last)",
      "\u001b[36mCell\u001b[39m\u001b[36m \u001b[39m\u001b[32mIn[4]\u001b[39m\u001b[32m, line 5\u001b[39m\n\u001b[32m      2\u001b[39m autoencoder.compile(optimizer=\u001b[33m'\u001b[39m\u001b[33madam\u001b[39m\u001b[33m'\u001b[39m, loss=\u001b[33m'\u001b[39m\u001b[33mmse\u001b[39m\u001b[33m'\u001b[39m)\n\u001b[32m      4\u001b[39m \u001b[38;5;66;03m# Train the autoencoder\u001b[39;00m\n\u001b[32m----> \u001b[39m\u001b[32m5\u001b[39m autoencoder.fit(X_train, X_train, epochs=\u001b[32m50\u001b[39m, batch_size=\u001b[32m256\u001b[39m, validation_data=(\u001b[43mX_test\u001b[49m, X_test))\n",
      "\u001b[31mNameError\u001b[39m: name 'X_test' is not defined"
     ]
    }
   ],
   "source": [
    "# Compile and train the autoencoder\n",
    "autoencoder.compile(optimizer='adam', loss='mse')\n",
    "\n",
    "# Train the autoencoder\n",
    "autoencoder.fit(X_train, X_train, epochs=50, batch_size=256, validation_data=(X_test, X_test))"
   ]
  },
  {
   "cell_type": "code",
   "execution_count": null,
   "id": "ebeb33a8",
   "metadata": {},
   "outputs": [],
   "source": []
  }
 ],
 "metadata": {
  "kernelspec": {
   "display_name": "venv (3.12.3)",
   "language": "python",
   "name": "python3"
  },
  "language_info": {
   "codemirror_mode": {
    "name": "ipython",
    "version": 3
   },
   "file_extension": ".py",
   "mimetype": "text/x-python",
   "name": "python",
   "nbconvert_exporter": "python",
   "pygments_lexer": "ipython3",
   "version": "3.12.3"
  }
 },
 "nbformat": 4,
 "nbformat_minor": 5
}
